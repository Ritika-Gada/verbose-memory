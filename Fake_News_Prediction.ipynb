{
  "nbformat": 4,
  "nbformat_minor": 0,
  "metadata": {
    "colab": {
      "provenance": [],
      "authorship_tag": "ABX9TyNPKMQHLsUCIRPZT1CB9iZS",
      "include_colab_link": true
    },
    "kernelspec": {
      "name": "python3",
      "display_name": "Python 3"
    },
    "language_info": {
      "name": "python"
    }
  },
  "cells": [
    {
      "cell_type": "markdown",
      "metadata": {
        "id": "view-in-github",
        "colab_type": "text"
      },
      "source": [
        "<a href=\"https://colab.research.google.com/github/Ritika-Gada/verbose-memory/blob/main/Fake_News_Prediction.ipynb\" target=\"_parent\"><img src=\"https://colab.research.google.com/assets/colab-badge.svg\" alt=\"Open In Colab\"/></a>"
      ]
    },
    {
      "cell_type": "markdown",
      "source": [
        "About the Dataset:\n",
        "1. id: unique id for a news article\n",
        "2. title: the title of a news article\n",
        "3. author: author of the news article\n",
        "4. text: the text of the article; could be incomplete\n",
        "5. label: a label that maerks whether the news article is real or fake;\n",
        "\n",
        "1: Fake news\n",
        "\n",
        "0: real news\n"
      ],
      "metadata": {
        "id": "gDrHbxtkcEf1"
      }
    },
    {
      "cell_type": "markdown",
      "source": [
        "Importing the Dependencies"
      ],
      "metadata": {
        "id": "n7cromMzfFY2"
      }
    },
    {
      "cell_type": "code",
      "execution_count": 3,
      "metadata": {
        "id": "o2SvYpFGaREU"
      },
      "outputs": [],
      "source": [
        "import numpy as np\n",
        "import pandas as pd\n",
        "import re\n",
        "from nltk.corpus import stopwords\n",
        "from nltk.stem.porter import PorterStemmer\n",
        "from sklearn.feature_extraction.text import TfidfVectorizer\n",
        "from sklearn.model_selection import train_test_split\n",
        "from sklearn.linear_model import LogisticRegression\n",
        "from sklearn.metrics import accuracy_score"
      ]
    },
    {
      "cell_type": "code",
      "source": [
        "import nltk\n",
        "nltk.download('stopwords')"
      ],
      "metadata": {
        "colab": {
          "base_uri": "https://localhost:8080/"
        },
        "id": "vNnZWXC0f39i",
        "outputId": "1f08e0d7-af32-4aa8-c772-ccad1615f6a3"
      },
      "execution_count": 4,
      "outputs": [
        {
          "output_type": "stream",
          "name": "stderr",
          "text": [
            "[nltk_data] Downloading package stopwords to /root/nltk_data...\n",
            "[nltk_data]   Unzipping corpora/stopwords.zip.\n"
          ]
        },
        {
          "output_type": "execute_result",
          "data": {
            "text/plain": [
              "True"
            ]
          },
          "metadata": {},
          "execution_count": 4
        }
      ]
    },
    {
      "cell_type": "code",
      "source": [
        "#printing the stop words in English\n",
        "print(stopwords.words('english'))"
      ],
      "metadata": {
        "colab": {
          "base_uri": "https://localhost:8080/"
        },
        "id": "i-_l9gl1f_DT",
        "outputId": "ddbdaafb-4724-44a7-f7bb-1b918a3b5d28"
      },
      "execution_count": 5,
      "outputs": [
        {
          "output_type": "stream",
          "name": "stdout",
          "text": [
            "['i', 'me', 'my', 'myself', 'we', 'our', 'ours', 'ourselves', 'you', \"you're\", \"you've\", \"you'll\", \"you'd\", 'your', 'yours', 'yourself', 'yourselves', 'he', 'him', 'his', 'himself', 'she', \"she's\", 'her', 'hers', 'herself', 'it', \"it's\", 'its', 'itself', 'they', 'them', 'their', 'theirs', 'themselves', 'what', 'which', 'who', 'whom', 'this', 'that', \"that'll\", 'these', 'those', 'am', 'is', 'are', 'was', 'were', 'be', 'been', 'being', 'have', 'has', 'had', 'having', 'do', 'does', 'did', 'doing', 'a', 'an', 'the', 'and', 'but', 'if', 'or', 'because', 'as', 'until', 'while', 'of', 'at', 'by', 'for', 'with', 'about', 'against', 'between', 'into', 'through', 'during', 'before', 'after', 'above', 'below', 'to', 'from', 'up', 'down', 'in', 'out', 'on', 'off', 'over', 'under', 'again', 'further', 'then', 'once', 'here', 'there', 'when', 'where', 'why', 'how', 'all', 'any', 'both', 'each', 'few', 'more', 'most', 'other', 'some', 'such', 'no', 'nor', 'not', 'only', 'own', 'same', 'so', 'than', 'too', 'very', 's', 't', 'can', 'will', 'just', 'don', \"don't\", 'should', \"should've\", 'now', 'd', 'll', 'm', 'o', 're', 've', 'y', 'ain', 'aren', \"aren't\", 'couldn', \"couldn't\", 'didn', \"didn't\", 'doesn', \"doesn't\", 'hadn', \"hadn't\", 'hasn', \"hasn't\", 'haven', \"haven't\", 'isn', \"isn't\", 'ma', 'mightn', \"mightn't\", 'mustn', \"mustn't\", 'needn', \"needn't\", 'shan', \"shan't\", 'shouldn', \"shouldn't\", 'wasn', \"wasn't\", 'weren', \"weren't\", 'won', \"won't\", 'wouldn', \"wouldn't\"]\n"
          ]
        }
      ]
    },
    {
      "cell_type": "markdown",
      "source": [
        "Data Pre-processing "
      ],
      "metadata": {
        "id": "TKp_YoJbgXnY"
      }
    },
    {
      "cell_type": "code",
      "source": [
        "\n",
        "#loading the dataset to a pandas DataFrame\n",
        "newsdata = pd.read_csv('/content/train.csv')"
      ],
      "metadata": {
        "id": "xYEc33ukgMLr"
      },
      "execution_count": 6,
      "outputs": []
    },
    {
      "cell_type": "code",
      "source": [
        " \n",
        "  newsdata.shape"
      ],
      "metadata": {
        "colab": {
          "base_uri": "https://localhost:8080/"
        },
        "id": "T1_NotaMg_Mt",
        "outputId": "ed483527-03fe-49a9-f3b5-18e62cb712ef"
      },
      "execution_count": 7,
      "outputs": [
        {
          "output_type": "execute_result",
          "data": {
            "text/plain": [
              "(20800, 5)"
            ]
          },
          "metadata": {},
          "execution_count": 7
        }
      ]
    },
    {
      "cell_type": "code",
      "source": [
        "newsdata.head()"
      ],
      "metadata": {
        "colab": {
          "base_uri": "https://localhost:8080/",
          "height": 337
        },
        "id": "mmLCumZxlJMT",
        "outputId": "486a0b0f-dfeb-46c9-ed80-1369cc57b299"
      },
      "execution_count": 8,
      "outputs": [
        {
          "output_type": "execute_result",
          "data": {
            "text/plain": [
              "   id                                              title              author  \\\n",
              "0   0  House Dem Aide: We Didn’t Even See Comey’s Let...       Darrell Lucus   \n",
              "1   1  FLYNN: Hillary Clinton, Big Woman on Campus - ...     Daniel J. Flynn   \n",
              "2   2                  Why the Truth Might Get You Fired  Consortiumnews.com   \n",
              "3   3  15 Civilians Killed In Single US Airstrike Hav...     Jessica Purkiss   \n",
              "4   4  Iranian woman jailed for fictional unpublished...      Howard Portnoy   \n",
              "\n",
              "                                                text  label  \n",
              "0  House Dem Aide: We Didn’t Even See Comey’s Let...      1  \n",
              "1  Ever get the feeling your life circles the rou...      0  \n",
              "2  Why the Truth Might Get You Fired October 29, ...      1  \n",
              "3  Videos 15 Civilians Killed In Single US Airstr...      1  \n",
              "4  Print \\nAn Iranian woman has been sentenced to...      1  "
            ],
            "text/html": [
              "\n",
              "  <div id=\"df-70fe09f7-b4dc-41ed-b02a-624894a280ed\">\n",
              "    <div class=\"colab-df-container\">\n",
              "      <div>\n",
              "<style scoped>\n",
              "    .dataframe tbody tr th:only-of-type {\n",
              "        vertical-align: middle;\n",
              "    }\n",
              "\n",
              "    .dataframe tbody tr th {\n",
              "        vertical-align: top;\n",
              "    }\n",
              "\n",
              "    .dataframe thead th {\n",
              "        text-align: right;\n",
              "    }\n",
              "</style>\n",
              "<table border=\"1\" class=\"dataframe\">\n",
              "  <thead>\n",
              "    <tr style=\"text-align: right;\">\n",
              "      <th></th>\n",
              "      <th>id</th>\n",
              "      <th>title</th>\n",
              "      <th>author</th>\n",
              "      <th>text</th>\n",
              "      <th>label</th>\n",
              "    </tr>\n",
              "  </thead>\n",
              "  <tbody>\n",
              "    <tr>\n",
              "      <th>0</th>\n",
              "      <td>0</td>\n",
              "      <td>House Dem Aide: We Didn’t Even See Comey’s Let...</td>\n",
              "      <td>Darrell Lucus</td>\n",
              "      <td>House Dem Aide: We Didn’t Even See Comey’s Let...</td>\n",
              "      <td>1</td>\n",
              "    </tr>\n",
              "    <tr>\n",
              "      <th>1</th>\n",
              "      <td>1</td>\n",
              "      <td>FLYNN: Hillary Clinton, Big Woman on Campus - ...</td>\n",
              "      <td>Daniel J. Flynn</td>\n",
              "      <td>Ever get the feeling your life circles the rou...</td>\n",
              "      <td>0</td>\n",
              "    </tr>\n",
              "    <tr>\n",
              "      <th>2</th>\n",
              "      <td>2</td>\n",
              "      <td>Why the Truth Might Get You Fired</td>\n",
              "      <td>Consortiumnews.com</td>\n",
              "      <td>Why the Truth Might Get You Fired October 29, ...</td>\n",
              "      <td>1</td>\n",
              "    </tr>\n",
              "    <tr>\n",
              "      <th>3</th>\n",
              "      <td>3</td>\n",
              "      <td>15 Civilians Killed In Single US Airstrike Hav...</td>\n",
              "      <td>Jessica Purkiss</td>\n",
              "      <td>Videos 15 Civilians Killed In Single US Airstr...</td>\n",
              "      <td>1</td>\n",
              "    </tr>\n",
              "    <tr>\n",
              "      <th>4</th>\n",
              "      <td>4</td>\n",
              "      <td>Iranian woman jailed for fictional unpublished...</td>\n",
              "      <td>Howard Portnoy</td>\n",
              "      <td>Print \\nAn Iranian woman has been sentenced to...</td>\n",
              "      <td>1</td>\n",
              "    </tr>\n",
              "  </tbody>\n",
              "</table>\n",
              "</div>\n",
              "      <button class=\"colab-df-convert\" onclick=\"convertToInteractive('df-70fe09f7-b4dc-41ed-b02a-624894a280ed')\"\n",
              "              title=\"Convert this dataframe to an interactive table.\"\n",
              "              style=\"display:none;\">\n",
              "        \n",
              "  <svg xmlns=\"http://www.w3.org/2000/svg\" height=\"24px\"viewBox=\"0 0 24 24\"\n",
              "       width=\"24px\">\n",
              "    <path d=\"M0 0h24v24H0V0z\" fill=\"none\"/>\n",
              "    <path d=\"M18.56 5.44l.94 2.06.94-2.06 2.06-.94-2.06-.94-.94-2.06-.94 2.06-2.06.94zm-11 1L8.5 8.5l.94-2.06 2.06-.94-2.06-.94L8.5 2.5l-.94 2.06-2.06.94zm10 10l.94 2.06.94-2.06 2.06-.94-2.06-.94-.94-2.06-.94 2.06-2.06.94z\"/><path d=\"M17.41 7.96l-1.37-1.37c-.4-.4-.92-.59-1.43-.59-.52 0-1.04.2-1.43.59L10.3 9.45l-7.72 7.72c-.78.78-.78 2.05 0 2.83L4 21.41c.39.39.9.59 1.41.59.51 0 1.02-.2 1.41-.59l7.78-7.78 2.81-2.81c.8-.78.8-2.07 0-2.86zM5.41 20L4 18.59l7.72-7.72 1.47 1.35L5.41 20z\"/>\n",
              "  </svg>\n",
              "      </button>\n",
              "      \n",
              "  <style>\n",
              "    .colab-df-container {\n",
              "      display:flex;\n",
              "      flex-wrap:wrap;\n",
              "      gap: 12px;\n",
              "    }\n",
              "\n",
              "    .colab-df-convert {\n",
              "      background-color: #E8F0FE;\n",
              "      border: none;\n",
              "      border-radius: 50%;\n",
              "      cursor: pointer;\n",
              "      display: none;\n",
              "      fill: #1967D2;\n",
              "      height: 32px;\n",
              "      padding: 0 0 0 0;\n",
              "      width: 32px;\n",
              "    }\n",
              "\n",
              "    .colab-df-convert:hover {\n",
              "      background-color: #E2EBFA;\n",
              "      box-shadow: 0px 1px 2px rgba(60, 64, 67, 0.3), 0px 1px 3px 1px rgba(60, 64, 67, 0.15);\n",
              "      fill: #174EA6;\n",
              "    }\n",
              "\n",
              "    [theme=dark] .colab-df-convert {\n",
              "      background-color: #3B4455;\n",
              "      fill: #D2E3FC;\n",
              "    }\n",
              "\n",
              "    [theme=dark] .colab-df-convert:hover {\n",
              "      background-color: #434B5C;\n",
              "      box-shadow: 0px 1px 3px 1px rgba(0, 0, 0, 0.15);\n",
              "      filter: drop-shadow(0px 1px 2px rgba(0, 0, 0, 0.3));\n",
              "      fill: #FFFFFF;\n",
              "    }\n",
              "  </style>\n",
              "\n",
              "      <script>\n",
              "        const buttonEl =\n",
              "          document.querySelector('#df-70fe09f7-b4dc-41ed-b02a-624894a280ed button.colab-df-convert');\n",
              "        buttonEl.style.display =\n",
              "          google.colab.kernel.accessAllowed ? 'block' : 'none';\n",
              "\n",
              "        async function convertToInteractive(key) {\n",
              "          const element = document.querySelector('#df-70fe09f7-b4dc-41ed-b02a-624894a280ed');\n",
              "          const dataTable =\n",
              "            await google.colab.kernel.invokeFunction('convertToInteractive',\n",
              "                                                     [key], {});\n",
              "          if (!dataTable) return;\n",
              "\n",
              "          const docLinkHtml = 'Like what you see? Visit the ' +\n",
              "            '<a target=\"_blank\" href=https://colab.research.google.com/notebooks/data_table.ipynb>data table notebook</a>'\n",
              "            + ' to learn more about interactive tables.';\n",
              "          element.innerHTML = '';\n",
              "          dataTable['output_type'] = 'display_data';\n",
              "          await google.colab.output.renderOutput(dataTable, element);\n",
              "          const docLink = document.createElement('div');\n",
              "          docLink.innerHTML = docLinkHtml;\n",
              "          element.appendChild(docLink);\n",
              "        }\n",
              "      </script>\n",
              "    </div>\n",
              "  </div>\n",
              "  "
            ]
          },
          "metadata": {},
          "execution_count": 8
        }
      ]
    },
    {
      "cell_type": "code",
      "source": [
        " newsdata.isnull().sum()"
      ],
      "metadata": {
        "colab": {
          "base_uri": "https://localhost:8080/"
        },
        "id": "l87PV1rWlRE7",
        "outputId": "bf853414-5a50-4125-8c8f-3510af751673"
      },
      "execution_count": 9,
      "outputs": [
        {
          "output_type": "execute_result",
          "data": {
            "text/plain": [
              "id           0\n",
              "title      558\n",
              "author    1957\n",
              "text        39\n",
              "label        0\n",
              "dtype: int64"
            ]
          },
          "metadata": {},
          "execution_count": 9
        }
      ]
    },
    {
      "cell_type": "code",
      "source": [
        "#replacing the null values with empty string\n",
        "newsdata = newsdata.fillna('')"
      ],
      "metadata": {
        "id": "pnEWBw7WlhJF"
      },
      "execution_count": 10,
      "outputs": []
    },
    {
      "cell_type": "code",
      "source": [
        "#merging the author names and news title\n",
        "newsdata['content'] = newsdata['author']+' '+ newsdata['title']"
      ],
      "metadata": {
        "id": "NSvuuG3xmOV-"
      },
      "execution_count": 11,
      "outputs": []
    },
    {
      "cell_type": "code",
      "source": [
        "print(newsdata['content'])"
      ],
      "metadata": {
        "colab": {
          "base_uri": "https://localhost:8080/"
        },
        "id": "t_O3ROiLm0Tz",
        "outputId": "3e2ce255-5bf4-4ced-c735-60a8c52dec97"
      },
      "execution_count": 12,
      "outputs": [
        {
          "output_type": "stream",
          "name": "stdout",
          "text": [
            "0        Darrell Lucus House Dem Aide: We Didn’t Even S...\n",
            "1        Daniel J. Flynn FLYNN: Hillary Clinton, Big Wo...\n",
            "2        Consortiumnews.com Why the Truth Might Get You...\n",
            "3        Jessica Purkiss 15 Civilians Killed In Single ...\n",
            "4        Howard Portnoy Iranian woman jailed for fictio...\n",
            "                               ...                        \n",
            "20795    Jerome Hudson Rapper T.I.: Trump a ’Poster Chi...\n",
            "20796    Benjamin Hoffman N.F.L. Playoffs: Schedule, Ma...\n",
            "20797    Michael J. de la Merced and Rachel Abrams Macy...\n",
            "20798    Alex Ansary NATO, Russia To Hold Parallel Exer...\n",
            "20799              David Swanson What Keeps the F-35 Alive\n",
            "Name: content, Length: 20800, dtype: object\n"
          ]
        }
      ]
    },
    {
      "cell_type": "code",
      "source": [
        "#seperating the data and label\n",
        "X = newsdata.drop('label',axis=1)\n",
        "Y = newsdata['label']\n"
      ],
      "metadata": {
        "id": "kBek229qm38E"
      },
      "execution_count": 13,
      "outputs": []
    },
    {
      "cell_type": "code",
      "source": [
        "print(X)\n",
        "print(Y)"
      ],
      "metadata": {
        "colab": {
          "base_uri": "https://localhost:8080/"
        },
        "id": "dtP5TxrIndzA",
        "outputId": "5af2aee1-18e2-4e9b-d7ec-f0c557ef1c28"
      },
      "execution_count": 14,
      "outputs": [
        {
          "output_type": "stream",
          "name": "stdout",
          "text": [
            "          id                                              title  \\\n",
            "0          0  House Dem Aide: We Didn’t Even See Comey’s Let...   \n",
            "1          1  FLYNN: Hillary Clinton, Big Woman on Campus - ...   \n",
            "2          2                  Why the Truth Might Get You Fired   \n",
            "3          3  15 Civilians Killed In Single US Airstrike Hav...   \n",
            "4          4  Iranian woman jailed for fictional unpublished...   \n",
            "...      ...                                                ...   \n",
            "20795  20795  Rapper T.I.: Trump a ’Poster Child For White S...   \n",
            "20796  20796  N.F.L. Playoffs: Schedule, Matchups and Odds -...   \n",
            "20797  20797  Macy’s Is Said to Receive Takeover Approach by...   \n",
            "20798  20798  NATO, Russia To Hold Parallel Exercises In Bal...   \n",
            "20799  20799                          What Keeps the F-35 Alive   \n",
            "\n",
            "                                          author  \\\n",
            "0                                  Darrell Lucus   \n",
            "1                                Daniel J. Flynn   \n",
            "2                             Consortiumnews.com   \n",
            "3                                Jessica Purkiss   \n",
            "4                                 Howard Portnoy   \n",
            "...                                          ...   \n",
            "20795                              Jerome Hudson   \n",
            "20796                           Benjamin Hoffman   \n",
            "20797  Michael J. de la Merced and Rachel Abrams   \n",
            "20798                                Alex Ansary   \n",
            "20799                              David Swanson   \n",
            "\n",
            "                                                    text  \\\n",
            "0      House Dem Aide: We Didn’t Even See Comey’s Let...   \n",
            "1      Ever get the feeling your life circles the rou...   \n",
            "2      Why the Truth Might Get You Fired October 29, ...   \n",
            "3      Videos 15 Civilians Killed In Single US Airstr...   \n",
            "4      Print \\nAn Iranian woman has been sentenced to...   \n",
            "...                                                  ...   \n",
            "20795  Rapper T. I. unloaded on black celebrities who...   \n",
            "20796  When the Green Bay Packers lost to the Washing...   \n",
            "20797  The Macy’s of today grew from the union of sev...   \n",
            "20798  NATO, Russia To Hold Parallel Exercises In Bal...   \n",
            "20799    David Swanson is an author, activist, journa...   \n",
            "\n",
            "                                                 content  \n",
            "0      Darrell Lucus House Dem Aide: We Didn’t Even S...  \n",
            "1      Daniel J. Flynn FLYNN: Hillary Clinton, Big Wo...  \n",
            "2      Consortiumnews.com Why the Truth Might Get You...  \n",
            "3      Jessica Purkiss 15 Civilians Killed In Single ...  \n",
            "4      Howard Portnoy Iranian woman jailed for fictio...  \n",
            "...                                                  ...  \n",
            "20795  Jerome Hudson Rapper T.I.: Trump a ’Poster Chi...  \n",
            "20796  Benjamin Hoffman N.F.L. Playoffs: Schedule, Ma...  \n",
            "20797  Michael J. de la Merced and Rachel Abrams Macy...  \n",
            "20798  Alex Ansary NATO, Russia To Hold Parallel Exer...  \n",
            "20799            David Swanson What Keeps the F-35 Alive  \n",
            "\n",
            "[20800 rows x 5 columns]\n",
            "0        1\n",
            "1        0\n",
            "2        1\n",
            "3        1\n",
            "4        1\n",
            "        ..\n",
            "20795    0\n",
            "20796    0\n",
            "20797    0\n",
            "20798    1\n",
            "20799    1\n",
            "Name: label, Length: 20800, dtype: int64\n"
          ]
        }
      ]
    },
    {
      "cell_type": "markdown",
      "source": [
        "Stemming : \n",
        "Stemming is the proces of reducing a word to its root word. \n",
        "Example : actor, actress, acting --> act"
      ],
      "metadata": {
        "id": "Itt0QPLspAQj"
      }
    },
    {
      "cell_type": "code",
      "source": [
        " port_stem = PorterStemmer()"
      ],
      "metadata": {
        "id": "V7D23x3tngeF"
      },
      "execution_count": 15,
      "outputs": []
    },
    {
      "cell_type": "code",
      "source": [
        "def stemming(content) :\n",
        "  stemmed_content = re.sub('[^a-zA-z]',' ',content)\n",
        "  stemmed_content = stemmed_content.lower()\n",
        "  stemmed_content = stemmed_content.split()\n",
        "  stemmed_content = [port_stem.stem(word) for word in stemmed_content if not word in stopwords.words('english')]\n",
        "  stemmed_content = ' '.join(stemmed_content)\n",
        "  return stemmed_content  "
      ],
      "metadata": {
        "id": "P2ssvC3iJRxK"
      },
      "execution_count": 24,
      "outputs": []
    },
    {
      "cell_type": "code",
      "source": [
        "newsdata['content'] = newsdata['content'].apply(stemming)"
      ],
      "metadata": {
        "id": "kUrY9ZXAOfzL"
      },
      "execution_count": 25,
      "outputs": []
    },
    {
      "cell_type": "code",
      "source": [
        "print(newsdata['content'])"
      ],
      "metadata": {
        "colab": {
          "base_uri": "https://localhost:8080/"
        },
        "id": "0cEuMhBKQ08n",
        "outputId": "bd1d40ff-6940-4a6e-e52b-278c7a06a512"
      },
      "execution_count": 26,
      "outputs": [
        {
          "output_type": "stream",
          "name": "stdout",
          "text": [
            "0        darrelllucushousedemaidewedidntevenseecomeysle...\n",
            "1        danieljflynnflynnhillaryclintonbigwomanoncampu...\n",
            "2               consortiumnewscomwhythetruthmightgetyoufir\n",
            "3        jessicapurkisscivilianskilledinsingleusairstri...\n",
            "4        howardportnoyiranianwomanjailedforfictionalunp...\n",
            "                               ...                        \n",
            "20795    jeromehudsonrappertitrumpaposterchildforwhites...\n",
            "20796    benjaminhoffmannflplayoffsschedulematchupsando...\n",
            "20797    michaeljdelamercedandrachelabramsmacysissaidto...\n",
            "20798    alexansarynatorussiatoholdparallelexercisesinb...\n",
            "20799                            davidswansonwhatkeepsthef\n",
            "Name: content, Length: 20800, dtype: object\n"
          ]
        }
      ]
    },
    {
      "cell_type": "code",
      "source": [
        "#seperating the data and label\n",
        "X = newsdata['content'].values\n",
        "Y = newsdata['label'].values"
      ],
      "metadata": {
        "id": "AdbbFidFRAho"
      },
      "execution_count": 19,
      "outputs": []
    },
    {
      "cell_type": "code",
      "source": [
        "print(X)\n",
        "print(Y)"
      ],
      "metadata": {
        "colab": {
          "base_uri": "https://localhost:8080/"
        },
        "id": "Pp7Avbr4IDSE",
        "outputId": "8a88676d-706c-42be-a80a-57ee3194e7a3"
      },
      "execution_count": 20,
      "outputs": [
        {
          "output_type": "stream",
          "name": "stdout",
          "text": [
            "['darrelllucushousedemaidewedidntevenseecomeysletteruntiljasonchaffetztweetedit'\n",
            " 'danieljflynnflynnhillaryclintonbigwomanoncampusbreitbart'\n",
            " 'consortiumnewscomwhythetruthmightgetyoufir' ...\n",
            " 'michaeljdelamercedandrachelabramsmacysissaidtoreceivetakeoverapproachbyhudsonsbaythenewyorktim'\n",
            " 'alexansarynatorussiatoholdparallelexercisesinbalkan'\n",
            " 'davidswansonwhatkeepsthefal']\n",
            "[1 0 1 ... 0 1 1]\n"
          ]
        }
      ]
    },
    {
      "cell_type": "code",
      "source": [
        "Y.shape"
      ],
      "metadata": {
        "colab": {
          "base_uri": "https://localhost:8080/"
        },
        "id": "9oQWembPIRc2",
        "outputId": "ef9ae541-6adb-4e64-ee4e-8f780d406d41"
      },
      "execution_count": 27,
      "outputs": [
        {
          "output_type": "execute_result",
          "data": {
            "text/plain": [
              "(20800,)"
            ]
          },
          "metadata": {},
          "execution_count": 27
        }
      ]
    },
    {
      "cell_type": "code",
      "source": [
        "# converting the textual data to numerical data\n",
        "vectorizer = TfidfVectorizer()\n",
        "vectorizer.fit(X)\n",
        "X = vectorizer.transform(X)"
      ],
      "metadata": {
        "id": "KWzNrLq_J4hA"
      },
      "execution_count": 30,
      "outputs": []
    },
    {
      "cell_type": "code",
      "source": [
        "print(X)"
      ],
      "metadata": {
        "colab": {
          "base_uri": "https://localhost:8080/"
        },
        "id": "zxdowbhvKNAy",
        "outputId": "896423ad-d1c6-4818-f74c-e1300ecfbae8"
      },
      "execution_count": 31,
      "outputs": [
        {
          "output_type": "stream",
          "name": "stdout",
          "text": [
            "  (0, 5210)\t1.0\n",
            "  (1, 4898)\t1.0\n",
            "  (2, 4551)\t1.0\n",
            "  (3, 9761)\t1.0\n",
            "  (4, 7983)\t1.0\n",
            "  (5, 4996)\t1.0\n",
            "  (6, 12013)\t1.0\n",
            "  (7, 1010)\t1.0\n",
            "  (8, 6809)\t1.0\n",
            "  (9, 12909)\t1.0\n",
            "  (10, 85)\t1.0\n",
            "  (11, 4203)\t1.0\n",
            "  (12, 15651)\t0.6926972991877945\n",
            "  (12, 1165)\t0.72122843239707\n",
            "  (13, 9115)\t1.0\n",
            "  (14, 1697)\t1.0\n",
            "  (15, 8745)\t1.0\n",
            "  (16, 13043)\t1.0\n",
            "  (17, 17480)\t1.0\n",
            "  (18, 18140)\t1.0\n",
            "  (19, 9289)\t1.0\n",
            "  (20, 14194)\t1.0\n",
            "  (21, 9671)\t1.0\n",
            "  (22, 15118)\t1.0\n",
            "  (23, 12718)\t1.0\n",
            "  :\t:\n",
            "  (20775, 1823)\t1.0\n",
            "  (20776, 8939)\t1.0\n",
            "  (20777, 409)\t1.0\n",
            "  (20778, 14005)\t1.0\n",
            "  (20779, 18541)\t1.0\n",
            "  (20780, 4167)\t1.0\n",
            "  (20781, 7757)\t1.0\n",
            "  (20782, 18172)\t1.0\n",
            "  (20783, 3728)\t1.0\n",
            "  (20784, 5554)\t1.0\n",
            "  (20785, 1572)\t1.0\n",
            "  (20786, 7472)\t1.0\n",
            "  (20787, 8253)\t1.0\n",
            "  (20788, 9871)\t1.0\n",
            "  (20789, 19697)\t1.0\n",
            "  (20790, 288)\t1.0\n",
            "  (20791, 4865)\t1.0\n",
            "  (20792, 10248)\t1.0\n",
            "  (20793, 16444)\t1.0\n",
            "  (20794, 11876)\t1.0\n",
            "  (20795, 9686)\t1.0\n",
            "  (20796, 2366)\t1.0\n",
            "  (20797, 13154)\t1.0\n",
            "  (20798, 890)\t1.0\n",
            "  (20799, 5476)\t1.0\n"
          ]
        }
      ]
    },
    {
      "cell_type": "markdown",
      "source": [
        "Splitting the dataset to training and test data"
      ],
      "metadata": {
        "id": "mABaAW65KX1p"
      }
    },
    {
      "cell_type": "code",
      "source": [
        "xtrain,xtest,ytrain,ytest = train_test_split(X, Y, test_size = 0.2, stratify = Y, random_state =2)"
      ],
      "metadata": {
        "id": "00PIvZOBLx0C"
      },
      "execution_count": 32,
      "outputs": []
    },
    {
      "cell_type": "markdown",
      "source": [
        "Training the Model : Logistic Regression\n"
      ],
      "metadata": {
        "id": "k7_FidlzMK2r"
      }
    },
    {
      "cell_type": "code",
      "source": [
        "model = LogisticRegression()"
      ],
      "metadata": {
        "id": "AL0zMv9UMJB4"
      },
      "execution_count": 33,
      "outputs": []
    },
    {
      "cell_type": "code",
      "source": [
        "model.fit(xtrain,ytrain)"
      ],
      "metadata": {
        "colab": {
          "base_uri": "https://localhost:8080/"
        },
        "id": "AVu6jEybMWmx",
        "outputId": "7a8f0b68-a53c-4c7b-f518-356190f08d23"
      },
      "execution_count": 34,
      "outputs": [
        {
          "output_type": "execute_result",
          "data": {
            "text/plain": [
              "LogisticRegression()"
            ]
          },
          "metadata": {},
          "execution_count": 34
        }
      ]
    },
    {
      "cell_type": "markdown",
      "source": [
        "Evalution"
      ],
      "metadata": {
        "id": "u2YQYw-0Maa_"
      }
    },
    {
      "cell_type": "markdown",
      "source": [
        "Accuracy Score"
      ],
      "metadata": {
        "id": "oAVjttXoMeTY"
      }
    },
    {
      "cell_type": "code",
      "source": [
        "#accuracy score on training data\n",
        "xtrain_pred = model.predict(xtrain)\n",
        "training_data_acc = accuracy_score(xtrain_pred, ytrain)"
      ],
      "metadata": {
        "id": "Aq6ZqesBMZmQ"
      },
      "execution_count": 35,
      "outputs": []
    },
    {
      "cell_type": "code",
      "source": [
        "print('Accuracy Score of the training data : ', training_data_acc)"
      ],
      "metadata": {
        "colab": {
          "base_uri": "https://localhost:8080/"
        },
        "id": "xzke7vuHM5Io",
        "outputId": "c2488d10-d61b-4154-ee46-811763d9c035"
      },
      "execution_count": 36,
      "outputs": [
        {
          "output_type": "stream",
          "name": "stdout",
          "text": [
            "Accuracy Score of the training data :  0.9927283653846154\n"
          ]
        }
      ]
    },
    {
      "cell_type": "code",
      "source": [
        "#accuracy score of the test data\n",
        "xtest_pred = model.predict(xtest)\n",
        "test_data_acc = accuracy_score(xtest_pred, ytest)\n",
        "print('Accuracy score of the test data : ', test_data_acc)"
      ],
      "metadata": {
        "colab": {
          "base_uri": "https://localhost:8080/"
        },
        "id": "tjO2R5y_NClq",
        "outputId": "70deda00-4163-410e-b0ce-e6293604416d"
      },
      "execution_count": 38,
      "outputs": [
        {
          "output_type": "stream",
          "name": "stdout",
          "text": [
            "Accuracy score of the test data :  0.5377403846153846\n"
          ]
        }
      ]
    },
    {
      "cell_type": "code",
      "source": [
        "xnew = xtest[3]\n",
        "prediction = model.predict(xnew)\n",
        "print(prediction)\n",
        "\n",
        "if (prediction[0] ==0):\n",
        "  print('The news is Real')\n",
        "else:\n",
        "  print('The news is fake')"
      ],
      "metadata": {
        "colab": {
          "base_uri": "https://localhost:8080/"
        },
        "id": "zSXCqfYrNkEZ",
        "outputId": "917dfa2e-590c-4102-e1c9-40738483b907"
      },
      "execution_count": 39,
      "outputs": [
        {
          "output_type": "stream",
          "name": "stdout",
          "text": [
            "[0]\n",
            "The news is Real\n"
          ]
        }
      ]
    },
    {
      "cell_type": "code",
      "source": [
        "print(ytest[3])"
      ],
      "metadata": {
        "colab": {
          "base_uri": "https://localhost:8080/"
        },
        "id": "QyYAKwOROPsD",
        "outputId": "a3c04074-3e70-4a5f-e451-20c40e132759"
      },
      "execution_count": 40,
      "outputs": [
        {
          "output_type": "stream",
          "name": "stdout",
          "text": [
            "0\n"
          ]
        }
      ]
    },
    {
      "cell_type": "code",
      "source": [],
      "metadata": {
        "id": "cBtd6NrGOVTo"
      },
      "execution_count": null,
      "outputs": []
    }
  ]
}